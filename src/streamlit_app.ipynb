{
  "nbformat": 4,
  "nbformat_minor": 0,
  "metadata": {
    "colab": {
      "name": "Untitled2.ipynb",
      "provenance": []
    },
    "kernelspec": {
      "name": "python3",
      "display_name": "Python 3"
    },
    "language_info": {
      "name": "python"
    }
  },
  "cells": [
    {
      "cell_type": "code",
      "metadata": {
        "id": "Kp8V-nRilJAp"
      },
      "source": [
        "!pip install streamlit -qqq"
      ],
      "execution_count": null,
      "outputs": []
    },
    {
      "cell_type": "code",
      "metadata": {
        "id": "Y1Dv_JDClvxK"
      },
      "source": [
        "!pip install pyngrok -qqq"
      ],
      "execution_count": null,
      "outputs": []
    },
    {
      "cell_type": "code",
      "metadata": {
        "id": "9-L_s7JTlEmk"
      },
      "source": [
        "%%writefile app.py\n",
        "\n",
        "import numpy as np\n",
        "import pandas as pd\n",
        "import streamlit as st\n",
        "import tensorflow as tf\n",
        "from PIL import Image, ImageOps\n",
        " \n",
        "classes = [\n",
        "    'Melanoma',\n",
        "    'Melanocytic nevus',\n",
        "    'Basal cell carcinoma',\n",
        "    'Actinic keratosis',\n",
        "    'Benign keratosis',\n",
        "    'Dermatofibroma',\n",
        "    'Vascular lesion',\n",
        "    'Squamous cell carcinoma',\n",
        "    'Unknown'\n",
        "]\n",
        "\n",
        "classes_abbrev = [\"MEL\",\"NV\",\"BCC\",\"AK\",\"BKL\",\"DF\",\"VASC\",\"SCC\",\"UNK\"]\n",
        "\n",
        "CLASSES_DICT = dict(tuple(zip(classes_abbrev[:-1], classes[:-1])))\n",
        "    \n",
        "# Loading the model.\n",
        "path_to_model = r\"/content/drive/MyDrive/model.h5\" # r\"F:/model.h5\"\n",
        "\n",
        "st.set_option(\"deprecation.showfileUploaderEncoding\", False)\n",
        "@st.cache(allow_output_mutation=True)\n",
        "def load_model():\n",
        "    model = tf.keras.models.load_model(path_to_model)\n",
        "    return model\n",
        "model = load_model()\n",
        "\n",
        "st.write(\"\"\"\n",
        "    # A Copilot in Medicine: Intelligent Skin Cancer System!\n",
        "\"\"\")\n",
        "\n",
        "file = st.file_uploader(\"Please upload an image with a type of skin cancer:\", type=[\"jpg\", \"png\"])\n",
        "\n",
        "st.write(\"\"\"\n",
        "\"\"\")\n",
        "\n",
        "def import_and_predict(image_data, model):\n",
        "    img = np.asarray(ImageOps.fit(image_data, (512, 512), Image.ANTIALIAS))[:, :, :3]\n",
        "    img = img[np.newaxis, ...]\n",
        "    img = tf.cast(img, tf.float32) / 255.0\n",
        "    pred = model(img)\n",
        "    return pred\n",
        "\n",
        "if file is None:\n",
        "    st.text(\"Please upload an image file.\")\n",
        "else:\n",
        "    image = Image.open(file)\n",
        "    st.image(image, use_column_width=True)\n",
        "    predictions = import_and_predict(image, model)\n",
        "    class_names = list(CLASSES_DICT.values())\n",
        "    class_idx = np.argmax(predictions)\n",
        "    class_proba = max(predictions)\n",
        "    string = f\"The model predicted {class_names[class_idx]}.\"\n",
        "    st.success(string)\n"
      ],
      "execution_count": null,
      "outputs": []
    },
    {
      "cell_type": "code",
      "metadata": {
        "id": "JKKu-pVPltQf"
      },
      "source": [
        "!ngrok authtoken 1x4TxryRZbKclFyqEQPih8qz2gO_5fjysY3SJ3nsUZcHkVyz"
      ],
      "execution_count": null,
      "outputs": []
    },
    {
      "cell_type": "code",
      "metadata": {
        "id": "d3svM3MOl8oh"
      },
      "source": [
        "!nohup streamlit run --server.port 80 app.py &"
      ],
      "execution_count": null,
      "outputs": []
    },
    {
      "cell_type": "code",
      "metadata": {
        "id": "0exE_Unkl9CQ"
      },
      "source": [
        ""
      ],
      "execution_count": null,
      "outputs": []
    },
    {
      "cell_type": "code",
      "metadata": {
        "id": "J0eFxM_rl9G_"
      },
      "source": [
        ""
      ],
      "execution_count": null,
      "outputs": []
    },
    {
      "cell_type": "code",
      "metadata": {
        "id": "IxvjVp6glutZ"
      },
      "source": [
        "from pyngrok import ngrok\n",
        "url = ngrok.connect(port=8500)\n",
        "url"
      ],
      "execution_count": null,
      "outputs": []
    },
    {
      "cell_type": "code",
      "metadata": {
        "id": "QRryQVZlmDr4"
      },
      "source": [
        ""
      ],
      "execution_count": null,
      "outputs": []
    }
  ]
}