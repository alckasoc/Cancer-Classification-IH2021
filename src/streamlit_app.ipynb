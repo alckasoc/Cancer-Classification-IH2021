{
  "nbformat": 4,
  "nbformat_minor": 0,
  "metadata": {
    "colab": {
      "name": "Untitled2.ipynb",
      "provenance": []
    },
    "kernelspec": {
      "name": "python3",
      "display_name": "Python 3"
    },
    "language_info": {
      "name": "python"
    }
  },
  "cells": [
    {
      "cell_type": "code",
      "metadata": {
        "colab": {
          "base_uri": "https://localhost:8080/"
        },
        "id": "Kp8V-nRilJAp",
        "outputId": "ed56a0ef-a317-44c5-b905-8ef50279de96"
      },
      "source": [
        "!pip install streamlit -qqq"
      ],
      "execution_count": 1,
      "outputs": [
        {
          "output_type": "stream",
          "text": [
            "\u001b[K     |████████████████████████████████| 8.0 MB 14.0 MB/s \n",
            "\u001b[K     |████████████████████████████████| 170 kB 53.7 MB/s \n",
            "\u001b[K     |████████████████████████████████| 111 kB 56.0 MB/s \n",
            "\u001b[K     |████████████████████████████████| 75 kB 4.0 MB/s \n",
            "\u001b[K     |████████████████████████████████| 4.2 MB 39.8 MB/s \n",
            "\u001b[K     |████████████████████████████████| 63 kB 2.0 MB/s \n",
            "\u001b[K     |████████████████████████████████| 122 kB 63.8 MB/s \n",
            "\u001b[K     |████████████████████████████████| 786 kB 36.2 MB/s \n",
            "\u001b[K     |████████████████████████████████| 370 kB 55.1 MB/s \n",
            "\u001b[?25h  Building wheel for blinker (setup.py) ... \u001b[?25l\u001b[?25hdone\n",
            "\u001b[31mERROR: pip's dependency resolver does not currently take into account all the packages that are installed. This behaviour is the source of the following dependency conflicts.\n",
            "jupyter-console 5.2.0 requires prompt-toolkit<2.0.0,>=1.0.0, but you have prompt-toolkit 3.0.20 which is incompatible.\n",
            "google-colab 1.0.0 requires ipykernel~=4.10, but you have ipykernel 6.2.0 which is incompatible.\n",
            "google-colab 1.0.0 requires ipython~=5.5.0, but you have ipython 7.26.0 which is incompatible.\u001b[0m\n"
          ],
          "name": "stdout"
        }
      ]
    },
    {
      "cell_type": "code",
      "metadata": {
        "colab": {
          "base_uri": "https://localhost:8080/"
        },
        "id": "Y1Dv_JDClvxK",
        "outputId": "49197ddb-a711-4c5c-ddbc-fc5a11b81097"
      },
      "source": [
        "!pip install pyngrok -qqq"
      ],
      "execution_count": 2,
      "outputs": [
        {
          "output_type": "stream",
          "text": [
            "\u001b[?25l\r\u001b[K     |▍                               | 10 kB 26.4 MB/s eta 0:00:01\r\u001b[K     |▉                               | 20 kB 30.1 MB/s eta 0:00:01\r\u001b[K     |█▎                              | 30 kB 31.5 MB/s eta 0:00:01\r\u001b[K     |█▊                              | 40 kB 24.0 MB/s eta 0:00:01\r\u001b[K     |██▏                             | 51 kB 20.5 MB/s eta 0:00:01\r\u001b[K     |██▋                             | 61 kB 15.3 MB/s eta 0:00:01\r\u001b[K     |███                             | 71 kB 15.2 MB/s eta 0:00:01\r\u001b[K     |███▌                            | 81 kB 16.5 MB/s eta 0:00:01\r\u001b[K     |████                            | 92 kB 17.3 MB/s eta 0:00:01\r\u001b[K     |████▍                           | 102 kB 16.5 MB/s eta 0:00:01\r\u001b[K     |████▉                           | 112 kB 16.5 MB/s eta 0:00:01\r\u001b[K     |█████▎                          | 122 kB 16.5 MB/s eta 0:00:01\r\u001b[K     |█████▊                          | 133 kB 16.5 MB/s eta 0:00:01\r\u001b[K     |██████▏                         | 143 kB 16.5 MB/s eta 0:00:01\r\u001b[K     |██████▋                         | 153 kB 16.5 MB/s eta 0:00:01\r\u001b[K     |███████                         | 163 kB 16.5 MB/s eta 0:00:01\r\u001b[K     |███████▌                        | 174 kB 16.5 MB/s eta 0:00:01\r\u001b[K     |████████                        | 184 kB 16.5 MB/s eta 0:00:01\r\u001b[K     |████████▍                       | 194 kB 16.5 MB/s eta 0:00:01\r\u001b[K     |████████▊                       | 204 kB 16.5 MB/s eta 0:00:01\r\u001b[K     |█████████▏                      | 215 kB 16.5 MB/s eta 0:00:01\r\u001b[K     |█████████▋                      | 225 kB 16.5 MB/s eta 0:00:01\r\u001b[K     |██████████                      | 235 kB 16.5 MB/s eta 0:00:01\r\u001b[K     |██████████▌                     | 245 kB 16.5 MB/s eta 0:00:01\r\u001b[K     |███████████                     | 256 kB 16.5 MB/s eta 0:00:01\r\u001b[K     |███████████▍                    | 266 kB 16.5 MB/s eta 0:00:01\r\u001b[K     |███████████▉                    | 276 kB 16.5 MB/s eta 0:00:01\r\u001b[K     |████████████▎                   | 286 kB 16.5 MB/s eta 0:00:01\r\u001b[K     |████████████▊                   | 296 kB 16.5 MB/s eta 0:00:01\r\u001b[K     |█████████████▏                  | 307 kB 16.5 MB/s eta 0:00:01\r\u001b[K     |█████████████▋                  | 317 kB 16.5 MB/s eta 0:00:01\r\u001b[K     |██████████████                  | 327 kB 16.5 MB/s eta 0:00:01\r\u001b[K     |██████████████▌                 | 337 kB 16.5 MB/s eta 0:00:01\r\u001b[K     |███████████████                 | 348 kB 16.5 MB/s eta 0:00:01\r\u001b[K     |███████████████▍                | 358 kB 16.5 MB/s eta 0:00:01\r\u001b[K     |███████████████▉                | 368 kB 16.5 MB/s eta 0:00:01\r\u001b[K     |████████████████▎               | 378 kB 16.5 MB/s eta 0:00:01\r\u001b[K     |████████████████▊               | 389 kB 16.5 MB/s eta 0:00:01\r\u001b[K     |█████████████████▏              | 399 kB 16.5 MB/s eta 0:00:01\r\u001b[K     |█████████████████▌              | 409 kB 16.5 MB/s eta 0:00:01\r\u001b[K     |██████████████████              | 419 kB 16.5 MB/s eta 0:00:01\r\u001b[K     |██████████████████▍             | 430 kB 16.5 MB/s eta 0:00:01\r\u001b[K     |██████████████████▉             | 440 kB 16.5 MB/s eta 0:00:01\r\u001b[K     |███████████████████▎            | 450 kB 16.5 MB/s eta 0:00:01\r\u001b[K     |███████████████████▊            | 460 kB 16.5 MB/s eta 0:00:01\r\u001b[K     |████████████████████▏           | 471 kB 16.5 MB/s eta 0:00:01\r\u001b[K     |████████████████████▋           | 481 kB 16.5 MB/s eta 0:00:01\r\u001b[K     |█████████████████████           | 491 kB 16.5 MB/s eta 0:00:01\r\u001b[K     |█████████████████████▌          | 501 kB 16.5 MB/s eta 0:00:01\r\u001b[K     |██████████████████████          | 512 kB 16.5 MB/s eta 0:00:01\r\u001b[K     |██████████████████████▍         | 522 kB 16.5 MB/s eta 0:00:01\r\u001b[K     |██████████████████████▉         | 532 kB 16.5 MB/s eta 0:00:01\r\u001b[K     |███████████████████████▎        | 542 kB 16.5 MB/s eta 0:00:01\r\u001b[K     |███████████████████████▊        | 552 kB 16.5 MB/s eta 0:00:01\r\u001b[K     |████████████████████████▏       | 563 kB 16.5 MB/s eta 0:00:01\r\u001b[K     |████████████████████████▋       | 573 kB 16.5 MB/s eta 0:00:01\r\u001b[K     |█████████████████████████       | 583 kB 16.5 MB/s eta 0:00:01\r\u001b[K     |█████████████████████████▌      | 593 kB 16.5 MB/s eta 0:00:01\r\u001b[K     |██████████████████████████      | 604 kB 16.5 MB/s eta 0:00:01\r\u001b[K     |██████████████████████████▎     | 614 kB 16.5 MB/s eta 0:00:01\r\u001b[K     |██████████████████████████▊     | 624 kB 16.5 MB/s eta 0:00:01\r\u001b[K     |███████████████████████████▏    | 634 kB 16.5 MB/s eta 0:00:01\r\u001b[K     |███████████████████████████▋    | 645 kB 16.5 MB/s eta 0:00:01\r\u001b[K     |████████████████████████████    | 655 kB 16.5 MB/s eta 0:00:01\r\u001b[K     |████████████████████████████▌   | 665 kB 16.5 MB/s eta 0:00:01\r\u001b[K     |█████████████████████████████   | 675 kB 16.5 MB/s eta 0:00:01\r\u001b[K     |█████████████████████████████▍  | 686 kB 16.5 MB/s eta 0:00:01\r\u001b[K     |█████████████████████████████▉  | 696 kB 16.5 MB/s eta 0:00:01\r\u001b[K     |██████████████████████████████▎ | 706 kB 16.5 MB/s eta 0:00:01\r\u001b[K     |██████████████████████████████▊ | 716 kB 16.5 MB/s eta 0:00:01\r\u001b[K     |███████████████████████████████▏| 727 kB 16.5 MB/s eta 0:00:01\r\u001b[K     |███████████████████████████████▋| 737 kB 16.5 MB/s eta 0:00:01\r\u001b[K     |████████████████████████████████| 746 kB 16.5 MB/s \n",
            "\u001b[?25h  Building wheel for pyngrok (setup.py) ... \u001b[?25l\u001b[?25hdone\n"
          ],
          "name": "stdout"
        }
      ]
    },
    {
      "cell_type": "code",
      "metadata": {
        "colab": {
          "base_uri": "https://localhost:8080/"
        },
        "id": "9-L_s7JTlEmk",
        "outputId": "6488a036-d943-4c4e-d155-cb52ad4cec96"
      },
      "source": [
        "%%writefile app.py\n",
        "\n",
        "import numpy as np\n",
        "import pandas as pd\n",
        "import streamlit as st\n",
        "import tensorflow as tf\n",
        "from PIL import Image, ImageOps\n",
        " \n",
        "classes = [\n",
        "    'Melanoma',\n",
        "    'Melanocytic nevus',\n",
        "    'Basal cell carcinoma',\n",
        "    'Actinic keratosis',\n",
        "    'Benign keratosis',\n",
        "    'Dermatofibroma',\n",
        "    'Vascular lesion',\n",
        "    'Squamous cell carcinoma',\n",
        "    'Unknown'\n",
        "]\n",
        "\n",
        "classes_abbrev = [\"MEL\",\"NV\",\"BCC\",\"AK\",\"BKL\",\"DF\",\"VASC\",\"SCC\",\"UNK\"]\n",
        "\n",
        "CLASSES_DICT = dict(tuple(zip(classes_abbrev[:-1], classes[:-1])))\n",
        "    \n",
        "# Loading the model.\n",
        "path_to_model = r\"/content/drive/MyDrive/model.h5\" # r\"F:/model.h5\"\n",
        "\n",
        "st.set_option(\"deprecation.showfileUploaderEncoding\", False)\n",
        "@st.cache(allow_output_mutation=True)\n",
        "def load_model():\n",
        "    model = tf.keras.models.load_model(path_to_model)\n",
        "    return model\n",
        "model = load_model()\n",
        "\n",
        "st.write(\"\"\"\n",
        "    # A Copilot in Medicine: Intelligent Skin Cancer System!\n",
        "\"\"\")\n",
        "\n",
        "file = st.file_uploader(\"Please upload an image with a type of skin cancer:\", type=[\"jpg\", \"png\"])\n",
        "\n",
        "st.write(\"\"\"\n",
        "\"\"\")\n",
        "\n",
        "def import_and_predict(image_data, model):\n",
        "    img = np.asarray(ImageOps.fit(image_data, (512, 512), Image.ANTIALIAS))[:, :, :3]\n",
        "    img = img[np.newaxis, ...]\n",
        "    img = tf.cast(img, tf.float32) / 255.0\n",
        "    pred = model(img)\n",
        "    return pred\n",
        "\n",
        "if file is None:\n",
        "    st.text(\"Please upload an image file.\")\n",
        "else:\n",
        "    image = Image.open(file)\n",
        "    st.image(image, use_column_width=True)\n",
        "    predictions = import_and_predict(image, model)\n",
        "    class_names = list(CLASSES_DICT.values())\n",
        "    class_idx = np.argmax(predictions)\n",
        "    class_proba = max(predictions)\n",
        "    string = f\"The model predicted {class_names[class_idx]}.\"\n",
        "    st.success(string)\n"
      ],
      "execution_count": 3,
      "outputs": [
        {
          "output_type": "stream",
          "text": [
            "Writing app.py\n"
          ],
          "name": "stdout"
        }
      ]
    },
    {
      "cell_type": "code",
      "metadata": {
        "id": "GvZYHgBKoPZJ"
      },
      "source": [
        "# import numpy as np\n",
        "# import pandas as pd\n",
        "# import tensorflow as tf\n",
        "# from PIL import Image, ImageOps\n",
        "\n",
        "# image_data = Image.open(r\"/content/Capture.PNG\")\n",
        "# img = np.asarray(image_data)[:, :, :3]\n",
        "# img = img[np.newaxis, ...]\n",
        "# img = tf.cast(img, tf.float32) / 255.0\n"
      ],
      "execution_count": 4,
      "outputs": []
    },
    {
      "cell_type": "code",
      "metadata": {
        "colab": {
          "base_uri": "https://localhost:8080/"
        },
        "id": "JKKu-pVPltQf",
        "outputId": "369776ef-2c23-4f52-c186-f28e43015810"
      },
      "source": [
        "!ngrok authtoken ************************************************"
      ],
      "execution_count": 5,
      "outputs": [
        {
          "output_type": "stream",
          "text": [
            "Authtoken saved to configuration file: /root/.ngrok2/ngrok.yml\n"
          ],
          "name": "stdout"
        }
      ]
    },
    {
      "cell_type": "code",
      "metadata": {
        "colab": {
          "base_uri": "https://localhost:8080/"
        },
        "id": "d3svM3MOl8oh",
        "outputId": "8bcb4d24-1b82-40b2-bf87-9a3477b1d5f4"
      },
      "source": [
        "!nohup streamlit run --server.port 80 app.py &"
      ],
      "execution_count": 6,
      "outputs": [
        {
          "output_type": "stream",
          "text": [
            "nohup: appending output to 'nohup.out'\n"
          ],
          "name": "stdout"
        }
      ]
    },
    {
      "cell_type": "code",
      "metadata": {
        "id": "0exE_Unkl9CQ"
      },
      "source": [
        ""
      ],
      "execution_count": 6,
      "outputs": []
    },
    {
      "cell_type": "code",
      "metadata": {
        "id": "J0eFxM_rl9G_"
      },
      "source": [
        ""
      ],
      "execution_count": 6,
      "outputs": []
    },
    {
      "cell_type": "code",
      "metadata": {
        "colab": {
          "base_uri": "https://localhost:8080/"
        },
        "id": "IxvjVp6glutZ",
        "outputId": "cf0fffc5-8232-42d8-9b56-96f095114221"
      },
      "source": [
        "from pyngrok import ngrok\n",
        "url = ngrok.connect(port=8500)\n",
        "url"
      ],
      "execution_count": 7,
      "outputs": [
        {
          "output_type": "execute_result",
          "data": {
            "text/plain": [
              "<NgrokTunnel: \"http://6ddd-35-204-184-66.ngrok.io\" -> \"http://localhost:80\">"
            ]
          },
          "metadata": {},
          "execution_count": 7
        }
      ]
    },
    {
      "cell_type": "code",
      "metadata": {
        "id": "QRryQVZlmDr4"
      },
      "source": [
        ""
      ],
      "execution_count": 7,
      "outputs": []
    }
  ]
}
